{
 "cells": [
  {
   "cell_type": "markdown",
   "id": "9c8716c8",
   "metadata": {},
   "source": [
    "# Data Science Tools and Ecosystem"
   ]
  },
  {
   "cell_type": "markdown",
   "id": "7a2eeec9",
   "metadata": {},
   "source": [
    "In this notebook, Data Science Tools and Ecosystem are summarized"
   ]
  },
  {
   "cell_type": "markdown",
   "id": "4ddc51b4",
   "metadata": {},
   "source": [
    "Some of the popular languages that Data Scientists use are:\n",
    "1. R\n",
    "2. SQL\n",
    "3. Python\n",
    "4. Julia"
   ]
  },
  {
   "cell_type": "markdown",
   "id": "6302308d",
   "metadata": {},
   "source": [
    "# Objectives:\n",
    "- Introduction to R\n",
    "- Python\n",
    "- Julia\n",
    "- SQL\n",
    "- Github\n",
    "- Libraries\n",
    "- Jupyter Notebooks\n",
    "- Anaconda"
   ]
  },
  {
   "cell_type": "markdown",
   "id": "eafc13f7",
   "metadata": {},
   "source": [
    "Some of the commonly used libraries used by Data Scientists include:\n",
    "1. ggplot\n",
    "2. Pandas\n",
    "3. Numpy\n",
    "4. Matplotlib"
   ]
  },
  {
   "cell_type": "markdown",
   "id": "6e7f4b16",
   "metadata": {},
   "source": [
    "|Data Science Tools|\n",
    "|--------------------|\n",
    "|Jupyter Notebooks|\n",
    "|Anaconda|\n",
    "|Rstudio|\n",
    "|Github|\n",
    "|Model Asset Exchange|\n",
    "|Data Asset Exchange|\n"
   ]
  },
  {
   "cell_type": "markdown",
   "id": "378a90d1",
   "metadata": {},
   "source": [
    "### Below are a few examples of evaluating arithmetic expressions in Python\n",
    "### /\n",
    "### *\n",
    "### **\n",
    "### -\n",
    "### +\n",
    "\n"
   ]
  },
  {
   "cell_type": "code",
   "execution_count": 4,
   "id": "87ccad49",
   "metadata": {},
   "outputs": [
    {
     "data": {
      "text/plain": [
       "17"
      ]
     },
     "execution_count": 4,
     "metadata": {},
     "output_type": "execute_result"
    }
   ],
   "source": [
    "#This a simple arithmetic expression to mutiply then add integers\n",
    "(3*4)+5\n"
   ]
  },
  {
   "cell_type": "code",
   "execution_count": 5,
   "id": "bb87a1fc",
   "metadata": {},
   "outputs": [
    {
     "data": {
      "text/plain": [
       "3.3333333333333335"
      ]
     },
     "execution_count": 5,
     "metadata": {},
     "output_type": "execute_result"
    }
   ],
   "source": [
    "#This will convert 200 minutes to hours by dividing by 60\n",
    "200/60"
   ]
  },
  {
   "cell_type": "markdown",
   "id": "ad6f0bdd",
   "metadata": {},
   "source": [
    "## Author\n",
    "Keith Tutwiler"
   ]
  },
  {
   "cell_type": "code",
   "execution_count": null,
   "id": "c3c8736c",
   "metadata": {},
   "outputs": [],
   "source": []
  }
 ],
 "metadata": {
  "kernelspec": {
   "display_name": "Python 3 (ipykernel)",
   "language": "python",
   "name": "python3"
  },
  "language_info": {
   "codemirror_mode": {
    "name": "ipython",
    "version": 3
   },
   "file_extension": ".py",
   "mimetype": "text/x-python",
   "name": "python",
   "nbconvert_exporter": "python",
   "pygments_lexer": "ipython3",
   "version": "3.11.5"
  }
 },
 "nbformat": 4,
 "nbformat_minor": 5
}
